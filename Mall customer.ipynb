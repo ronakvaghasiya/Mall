{
 "cells": [
  {
   "cell_type": "markdown",
   "metadata": {},
   "source": [
    "# Mall customer segmentation"
   ]
  },
  {
   "cell_type": "code",
   "execution_count": null,
   "metadata": {},
   "outputs": [],
   "source": [
    "import sys\n",
    "!{sys.executable} -m pip install seaborn"
   ]
  },
  {
   "cell_type": "markdown",
   "metadata": {
    "colab_type": "text",
    "id": "afbCd3JScaDD"
   },
   "source": [
    "**Installing the Libraries**"
   ]
  },
  {
   "cell_type": "code",
   "execution_count": null,
   "metadata": {
    "colab": {},
    "colab_type": "code",
    "id": "fYCzevADcO5h"
   },
   "outputs": [],
   "source": [
    "import numpy as np\n",
    "import pandas as pd\n",
    "\n",
    "import matplotlib.pyplot as plt\n",
    "import seaborn as sns"
   ]
  },
  {
   "cell_type": "markdown",
   "metadata": {
    "colab_type": "text",
    "id": "3CPkewAscpyK"
   },
   "source": [
    "**Importing the Dataset**"
   ]
  },
  {
   "cell_type": "code",
   "execution_count": null,
   "metadata": {
    "colab": {
     "base_uri": "https://localhost:8080/",
     "height": 72
    },
    "colab_type": "code",
    "id": "dnV20cUxcohO",
    "outputId": "82b49b9c-58b5-4be5-b585-165563ed304c"
   },
   "outputs": [],
   "source": [
    "data = pd.read_csv('Mall_Customers.csv')\n",
    "\n",
    "print(data.shape)\n",
    "\n",
    "\n"
   ]
  },
  {
   "cell_type": "code",
   "execution_count": null,
   "metadata": {
    "colab": {
     "base_uri": "https://localhost:8080/",
     "height": 206
    },
    "colab_type": "code",
    "id": "YUGnDS7KkKgm",
    "outputId": "55467283-2392-41f3-dee0-fbb8bf3f4638"
   },
   "outputs": [],
   "source": [
    "data.head()"
   ]
  },
  {
   "cell_type": "code",
   "execution_count": null,
   "metadata": {
    "colab": {
     "base_uri": "https://localhost:8080/",
     "height": 206
    },
    "colab_type": "code",
    "id": "WjKTqABnisCS",
    "outputId": "ec328346-58f2-471c-a1f4-6c861a57fae8"
   },
   "outputs": [],
   "source": [
    "data.tail()"
   ]
  },
  {
   "cell_type": "code",
   "execution_count": null,
   "metadata": {
    "colab": {
     "base_uri": "https://localhost:8080/",
     "height": 204
    },
    "colab_type": "code",
    "id": "2BrhNKAMdW3m",
    "outputId": "51a7a9c2-a0be-4d9b-edc6-f30bfa2c3d69"
   },
   "outputs": [],
   "source": [
    "data.info()"
   ]
  },
  {
   "cell_type": "code",
   "execution_count": null,
   "metadata": {
    "colab": {
     "base_uri": "https://localhost:8080/",
     "height": 300
    },
    "colab_type": "code",
    "id": "kCddXZRpdaEr",
    "outputId": "a02f964b-bad9-4fca-de32-1cb8a535f407"
   },
   "outputs": [],
   "source": [
    "data.describe()"
   ]
  },
  {
   "cell_type": "code",
   "execution_count": null,
   "metadata": {
    "colab": {
     "base_uri": "https://localhost:8080/",
     "height": 129
    },
    "colab_type": "code",
    "id": "QQVxAt8ZdeZB",
    "outputId": "189bcfaa-3bc6-4ad1-8659-178a6444c161"
   },
   "outputs": [],
   "source": [
    "data.isnull().any()"
   ]
  },
  {
   "cell_type": "code",
   "execution_count": null,
   "metadata": {
    "colab": {
     "base_uri": "https://localhost:8080/",
     "height": 437
    },
    "colab_type": "code",
    "id": "eZJRA2aRkgiD",
    "outputId": "7a919656-a0a2-466d-ea6f-2864d316d25f"
   },
   "outputs": [],
   "source": [
    "sns.set(style = 'whitegrid')\n",
    "sns.distplot(data['Annual Income (k$)'])\n",
    "plt.title('Distribution of Annual Income', fontsize = 20)\n",
    "plt.xlabel('Range of Annual Income')\n",
    "plt.ylabel('Count')\n",
    "plt.show()"
   ]
  },
  {
   "cell_type": "code",
   "execution_count": null,
   "metadata": {
    "colab": {
     "base_uri": "https://localhost:8080/",
     "height": 437
    },
    "colab_type": "code",
    "id": "38f8J9hvkYaw",
    "outputId": "07707cdf-eb48-493a-8ba1-497552722c53"
   },
   "outputs": [],
   "source": [
    "\n",
    "sns.set(style = 'dark')\n",
    "sns.distplot(data['Age'])\n",
    "plt.title('Distribution of Age', fontsize = 20)\n",
    "plt.xlabel('Range of Age')\n",
    "plt.ylabel('Count')\n",
    "plt.show()"
   ]
  },
  {
   "cell_type": "code",
   "execution_count": null,
   "metadata": {
    "colab": {
     "base_uri": "https://localhost:8080/",
     "height": 72
    },
    "colab_type": "code",
    "id": "CAYOhy-2dkYj",
    "outputId": "3a476ce6-1a75-4dc6-b4a6-daef5356cdd8"
   },
   "outputs": [],
   "source": [
    "data['Genre'].value_counts()"
   ]
  },
  {
   "cell_type": "code",
   "execution_count": null,
   "metadata": {
    "colab": {
     "base_uri": "https://localhost:8080/",
     "height": 426
    },
    "colab_type": "code",
    "id": "bNWTBRakkU__",
    "outputId": "5b092b6b-b35a-4b04-cd39-8494c5afb5b0"
   },
   "outputs": [],
   "source": [
    "labels = ['Female', 'Male']\n",
    "size = [112, 88]\n",
    "colors = ['lightgreen', 'orange']\n",
    "explode = [0, 0.1]\n",
    "\n",
    "plt.rcParams['figure.figsize'] = (7, 7)\n",
    "plt.pie(size, colors = colors, explode = explode, labels = labels, shadow = True, autopct = '%.2f%%')\n",
    "plt.title('A pie chart Representing the Gender')\n",
    "plt.axis('off')\n",
    "plt.legend()\n",
    "plt.show()"
   ]
  },
  {
   "cell_type": "code",
   "execution_count": null,
   "metadata": {
    "colab": {
     "base_uri": "https://localhost:8080/",
     "height": 557
    },
    "colab_type": "code",
    "id": "6xZzbPo3dxmT",
    "outputId": "8e2d994d-cf8f-4193-8b6c-f6fc182eb434"
   },
   "outputs": [],
   "source": [
    "data['Age'].value_counts().plot.bar(figsize = (9, 9))"
   ]
  },
  {
   "cell_type": "code",
   "execution_count": null,
   "metadata": {
    "colab": {
     "base_uri": "https://localhost:8080/",
     "height": 400
    },
    "colab_type": "code",
    "id": "Zt0sFOPud5xy",
    "outputId": "c0dfa419-f1be-499c-a2d1-3b00352c7185"
   },
   "outputs": [],
   "source": [
    "data['Annual Income (k$)'].value_counts().plot.bar(figsize = (13, 6))"
   ]
  },
  {
   "cell_type": "code",
   "execution_count": null,
   "metadata": {
    "colab": {
     "base_uri": "https://localhost:8080/",
     "height": 340
    },
    "colab_type": "code",
    "id": "o_csXNtneJ0d",
    "outputId": "394e603c-981b-4ef6-cb09-1b4390887979"
   },
   "outputs": [],
   "source": [
    "data['Spending Score (1-100)'].value_counts().plot.bar(figsize = (15, 5))"
   ]
  },
  {
   "cell_type": "code",
   "execution_count": null,
   "metadata": {
    "colab": {
     "base_uri": "https://localhost:8080/",
     "height": 744
    },
    "colab_type": "code",
    "id": "jOtDAQC8e_pX",
    "outputId": "d303c7fa-c82e-4845-ef0e-623903f1065d"
   },
   "outputs": [],
   "source": [
    "sns.pairplot(data)"
   ]
  },
  {
   "cell_type": "code",
   "execution_count": null,
   "metadata": {
    "colab": {
     "base_uri": "https://localhost:8080/",
     "height": 374
    },
    "colab_type": "code",
    "id": "zYGl1HwcfWvI",
    "outputId": "2b2a40ec-6365-4453-81a1-f4e4817898cc"
   },
   "outputs": [],
   "source": [
    "plt.matshow(data.corr())"
   ]
  },
  {
   "cell_type": "code",
   "execution_count": null,
   "metadata": {
    "colab": {
     "base_uri": "https://localhost:8080/",
     "height": 557
    },
    "colab_type": "code",
    "id": "sD7R5dVCg6kc",
    "outputId": "7a7dacf1-0d24-4ae4-be2c-5bea042c25e7"
   },
   "outputs": [],
   "source": []
  },
  {
   "cell_type": "code",
   "execution_count": null,
   "metadata": {
    "colab": {
     "base_uri": "https://localhost:8080/",
     "height": 533
    },
    "colab_type": "code",
    "id": "6lI0QgyfhNjo",
    "outputId": "60e9a53e-0ab5-4a39-8281-53b912c3de0e"
   },
   "outputs": [],
   "source": [
    "fig, axis = plt.subplots(figsize=(10, 8))\n",
    "corr = data.corr()\n",
    "sns.heatmap(corr, mask = np.zeros_like(corr, dtype = np.bool), cmap = sns.diverging_palette(220, 10, as_cmap = True),\n",
    "            square = True, ax = axis)"
   ]
  },
  {
   "cell_type": "code",
   "execution_count": null,
   "metadata": {
    "colab": {
     "base_uri": "https://localhost:8080/",
     "height": 365
    },
    "colab_type": "code",
    "id": "W7U4B85RiHeE",
    "outputId": "d2929656-d8ce-4470-ba8c-4f51c4bc3b61"
   },
   "outputs": [],
   "source": [
    "x = data['CustomerID']\n",
    "y = data['Annual Income (k$)']\n",
    "\n",
    "plt.plot(x, y)"
   ]
  },
  {
   "cell_type": "code",
   "execution_count": null,
   "metadata": {
    "colab": {
     "base_uri": "https://localhost:8080/",
     "height": 365
    },
    "colab_type": "code",
    "id": "Hd2QqY4jiVY2",
    "outputId": "e4aba7b0-caf2-4685-b0ae-13e4c154fea6"
   },
   "outputs": [],
   "source": [
    "\n",
    "x = data['Annual Income (k$)']\n",
    "y = data['Age']\n",
    "\n",
    "plt.plot(x, y)"
   ]
  },
  {
   "cell_type": "code",
   "execution_count": null,
   "metadata": {
    "colab": {
     "base_uri": "https://localhost:8080/",
     "height": 35
    },
    "colab_type": "code",
    "id": "worK1OurkRGx",
    "outputId": "f82ce7dd-9067-42ca-c8e0-20ca9ec32cdc"
   },
   "outputs": [],
   "source": [
    "x = data.iloc[:, [3, 4]].values\n",
    "\n",
    "print(x.shape)"
   ]
  },
  {
   "cell_type": "code",
   "execution_count": null,
   "metadata": {},
   "outputs": [],
   "source": [
    "import sys\n",
    "!{sys.executable} -m pip install sklearn"
   ]
  },
  {
   "cell_type": "code",
   "execution_count": null,
   "metadata": {
    "colab": {
     "base_uri": "https://localhost:8080/",
     "height": 376
    },
    "colab_type": "code",
    "id": "vhf219y1lKbn",
    "outputId": "18f6cea1-7082-425d-a088-2c3eb2ab1b2a"
   },
   "outputs": [],
   "source": [
    "from sklearn.cluster import KMeans\n",
    "\n",
    "wcss = []\n",
    "for i in range(1, 11):\n",
    "  km = KMeans(n_clusters = i, init = 'k-means++', max_iter = 300, n_init = 10, random_state = 0)\n",
    "  km.fit(x)\n",
    "  wcss.append(km.inertia_)\n",
    "  \n",
    "plt.plot(range(1, 11), wcss)\n",
    "plt.title('The Elbow Method')\n",
    "plt.xlabel('No. of Clusters')\n",
    "plt.ylabel('wcss')\n",
    "plt.show()"
   ]
  },
  {
   "cell_type": "code",
   "execution_count": null,
   "metadata": {
    "colab": {
     "base_uri": "https://localhost:8080/",
     "height": 376
    },
    "colab_type": "code",
    "id": "4teho5mpnARV",
    "outputId": "2859f139-a905-451c-b041-4c2adae48f19"
   },
   "outputs": [],
   "source": [
    "km = KMeans(n_clusters = 5, init = 'k-means++', max_iter = 300, n_init = 10, random_state = 0)\n",
    "y_means = km.fit_predict(x)\n",
    "\n",
    "plt.scatter(x[y_means == 0, 0], x[y_means == 0, 1], s = 100, c = 'pink', label = 'miser')\n",
    "plt.scatter(x[y_means == 1, 0], x[y_means == 1, 1], s = 100, c = 'yellow', label = 'general')\n",
    "plt.scatter(x[y_means == 2, 0], x[y_means == 2, 1], s = 100, c = 'cyan', label = 'target')\n",
    "plt.scatter(x[y_means == 3, 0], x[y_means == 3, 1], s = 100, c = 'magenta', label = 'spendthrift')\n",
    "plt.scatter(x[y_means == 4, 0], x[y_means == 4, 1], s = 100, c = 'orange', label = 'careful')\n",
    "plt.scatter(km.cluster_centers_[:,0], km.cluster_centers_[:, 1], s = 50, c = 'blue' , label = 'centeroid')\n",
    "\n",
    "plt.title('K Means Clustering')\n",
    "plt.xlabel('Annual Income')\n",
    "plt.ylabel('Spending Score')\n",
    "plt.legend()\n",
    "plt.show()\n",
    "\n"
   ]
  },
  {
   "cell_type": "code",
   "execution_count": null,
   "metadata": {},
   "outputs": [],
   "source": [
    "import sys\n",
    "!{sys.executable} -m pip install scipy"
   ]
  },
  {
   "cell_type": "code",
   "execution_count": null,
   "metadata": {
    "colab": {
     "base_uri": "https://localhost:8080/",
     "height": 374
    },
    "colab_type": "code",
    "id": "61wU3tOn1CF0",
    "outputId": "3794be97-d4d2-4156-dedc-6c51b427cf4c"
   },
   "outputs": [],
   "source": [
    "import scipy.cluster.hierarchy as sch\n",
    "\n",
    "dendrogram = sch.dendrogram(sch.linkage(x, method = 'ward'))\n",
    "plt.title('Dendrogam')\n",
    "plt.xlabel('Customers')\n",
    "plt.ylabel('Ecuclidean Distance')\n",
    "plt.show()"
   ]
  },
  {
   "cell_type": "code",
   "execution_count": null,
   "metadata": {
    "colab": {
     "base_uri": "https://localhost:8080/",
     "height": 376
    },
    "colab_type": "code",
    "id": "hpGIX7cd2mXt",
    "outputId": "9b9d9003-eb52-4daf-c452-ad6f84bd4e09"
   },
   "outputs": [],
   "source": [
    "from sklearn.cluster import AgglomerativeClustering\n",
    "\n",
    "hc = AgglomerativeClustering(n_clusters = 5, affinity = 'euclidean', linkage = 'ward')\n",
    "y_hc = hc.fit_predict(x)\n",
    "\n",
    "plt.scatter(x[y_means == 0, 0], x[y_means == 0, 1], s = 100, c = 'pink', label = 'miser')\n",
    "plt.scatter(x[y_means == 1, 0], x[y_means == 1, 1], s = 100, c = 'yellow', label = 'general')\n",
    "plt.scatter(x[y_means == 2, 0], x[y_means == 2, 1], s = 100, c = 'cyan', label = 'target')\n",
    "plt.scatter(x[y_means == 3, 0], x[y_means == 3, 1], s = 100, c = 'magenta', label = 'spendthrift')\n",
    "plt.scatter(x[y_means == 4, 0], x[y_means == 4, 1], s = 100, c = 'orange', label = 'careful')\n",
    "plt.scatter(km.cluster_centers_[:,0], km.cluster_centers_[:, 1], s = 50, c = 'blue' , label = 'centeroid')\n",
    "\n",
    "plt.title('Hierarchial Clustering')\n",
    "plt.xlabel('Annual Income')\n",
    "plt.ylabel('Spending Score')\n",
    "plt.legend()\n",
    "plt.show()"
   ]
  },
  {
   "cell_type": "markdown",
   "metadata": {
    "colab_type": "text",
    "id": "h9fZ0OCemWad"
   },
   "source": [
    "**Clusters of Customers Based on their Ages**"
   ]
  },
  {
   "cell_type": "code",
   "execution_count": null,
   "metadata": {
    "colab": {
     "base_uri": "https://localhost:8080/",
     "height": 72
    },
    "colab_type": "code",
    "id": "L_JwK6_LmUuj",
    "outputId": "224f6894-37af-4c1f-de2b-1de3b3708483"
   },
   "outputs": [],
   "source": [
    "data.columns"
   ]
  },
  {
   "cell_type": "code",
   "execution_count": null,
   "metadata": {},
   "outputs": [],
   "source": [
    "data"
   ]
  },
  {
   "cell_type": "code",
   "execution_count": null,
   "metadata": {
    "colab": {
     "base_uri": "https://localhost:8080/",
     "height": 35
    },
    "colab_type": "code",
    "id": "AiCipNN-3Z7X",
    "outputId": "31cbb6a0-40e6-4540-87f0-cf21c7092069"
   },
   "outputs": [],
   "source": [
    "x = data.iloc[:, [2, 4]].values\n",
    "x.shape"
   ]
  },
  {
   "cell_type": "code",
   "execution_count": null,
   "metadata": {},
   "outputs": [],
   "source": [
    "# data.iloc[:,[3,4,5]].values"
   ]
  },
  {
   "cell_type": "code",
   "execution_count": null,
   "metadata": {
    "colab": {
     "base_uri": "https://localhost:8080/",
     "height": 355
    },
    "colab_type": "code",
    "id": "utqqEXGjmxNq",
    "outputId": "7bb54264-58e5-4ffb-de1f-052b981b7e1e"
   },
   "outputs": [],
   "source": [
    "from sklearn.cluster import KMeans\n",
    "\n",
    "wcss = []\n",
    "for i in range(1, 11):\n",
    "  kmeans = KMeans(n_clusters = i, init = 'k-means++', max_iter = 300, n_init = 10, random_state = 0)\n",
    "  kmeans.fit(x)\n",
    "  wcss.append(kmeans.inertia_)\n",
    "\n",
    "plt.rcParams['figure.figsize'] = (7, 5)\n",
    "plt.plot(range(1, 11), wcss)\n",
    "plt.title('K-Means Clustering(The Elbow Method)', fontsize = 20)\n",
    "plt.xlabel('K')\n",
    "plt.ylabel('Errors')\n",
    "plt.show()"
   ]
  },
  {
   "cell_type": "code",
   "execution_count": null,
   "metadata": {
    "colab": {
     "base_uri": "https://localhost:8080/",
     "height": 633
    },
    "colab_type": "code",
    "id": "jXc05lqRoGZ2",
    "outputId": "5b6edaaf-c6a7-4063-87cd-8b4d8175399c"
   },
   "outputs": [],
   "source": [
    "kmeans = KMeans(n_clusters = 4, init = 'k-means++', max_iter = 300, n_init = 10, random_state = 0)\n",
    "ymeans = kmeans.fit_predict(x)\n",
    "\n",
    "plt.rcParams['figure.figsize'] = (10, 10)\n",
    "plt.title('Cluster of Ages', fontsize = 30)\n",
    "\n",
    "plt.scatter(x[ymeans == 0, 0], x[ymeans == 0, 1], s = 100, c = 'pink', label = 'Usual Customers' )\n",
    "plt.scatter(x[ymeans == 1, 0], x[ymeans == 1, 1], s = 100, c = 'orange', label = 'Priority Customers')\n",
    "plt.scatter(x[ymeans == 2, 0], x[ymeans == 2, 1], s = 100, c = 'lightgreen', label = 'Target Customers(Young)')\n",
    "plt.scatter(x[ymeans == 3, 0], x[ymeans == 3, 1], s = 100, c = 'red', label = 'Target Customers(Old)')\n",
    "plt.scatter(kmeans.cluster_centers_[:, 0], kmeans.cluster_centers_[:, 1], s = 50, c = 'black')\n",
    "\n",
    "plt.xlabel('Age')\n",
    "plt.ylabel('Spending Score (1-100)')\n",
    "plt.legend()\n",
    "plt.show()\n"
   ]
  },
  {
   "cell_type": "markdown",
   "metadata": {
    "colab_type": "text",
    "id": "p2-zw2uh-j_A"
   },
   "source": [
    "# Conclusion"
   ]
  },
  {
   "cell_type": "markdown",
   "metadata": {
    "colab": {},
    "colab_type": "code",
    "id": "9y3xaCZq-aG9"
   },
   "source": [
    "Finally, based on our machine learning technique we may reduce that to increase the profits of the mall, the mall authorities should target people belonging to cluster \"spendthrift\" and cluster \"target\" and should also maintain its standards to keep the people belonging to cluster \"carefull\" and cluster \"general\" happy and satisfied."
   ]
  }
 ],
 "metadata": {
  "colab": {
   "collapsed_sections": [],
   "include_colab_link": true,
   "name": "Mall.ipynb",
   "provenance": [],
   "version": "0.3.2"
  },
  "kernelspec": {
   "display_name": "Python 3.10.4 64-bit",
   "language": "python",
   "name": "python3"
  },
  "language_info": {
   "codemirror_mode": {
    "name": "ipython",
    "version": 3
   },
   "file_extension": ".py",
   "mimetype": "text/x-python",
   "name": "python",
   "nbconvert_exporter": "python",
   "pygments_lexer": "ipython3",
   "version": "3.10.4"
  },
  "vscode": {
   "interpreter": {
    "hash": "38d9aa8833861d1858edd1fd05f2d1b14e9999c8928ba3ca23d6ee10ffd5037b"
   }
  }
 },
 "nbformat": 4,
 "nbformat_minor": 1
}
